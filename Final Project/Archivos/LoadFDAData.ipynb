{
 "cells": [
  {
   "cell_type": "code",
   "execution_count": 1,
   "id": "ccc60fa1",
   "metadata": {},
   "outputs": [],
   "source": [
    "import pandas as pd\n",
    "from datetime import datetime\n",
    "\n",
    "def loadInfoFDA():\n",
    "    file_path = '../Datos/FDA Aproval.xlsx'\n",
    "    all_sheets_FDA = pd.ExcelFile(file_path).sheet_names\n",
    "    FDA_index = [\"Russell2000\"]*13 + [\"S&P500\"]*11\n",
    "    list_FDA_data = []\n",
    "\n",
    "    def first_occurrence_indices(vector, elements_to_find):\n",
    "        indices = {element: None for element in elements_to_find}\n",
    "        for i, item in enumerate(vector):\n",
    "            if item in indices and indices[item] is None:\n",
    "                indices[item] = i\n",
    "            if all(index is not None for index in indices.values()):\n",
    "                break\n",
    "        return indices\n",
    "\n",
    "    counter_loop = -1\n",
    "    for i in all_sheets_FDA:\n",
    "        counter_loop = counter_loop + 1\n",
    "        df_FDA_Firm = pd.read_excel(file_path, sheet_name=i)\n",
    "        FDA_names = df_FDA_Firm['Proprietary Name'].to_numpy()\n",
    "        set_FDA_names = list(set(FDA_names))\n",
    "\n",
    "        result_indices_FDA = list(first_occurrence_indices(FDA_names, set_FDA_names).values())\n",
    "        final_FDA_df = df_FDA_Firm.iloc[result_indices_FDA]\n",
    "\n",
    "        final_FDA_date = list(final_FDA_df[\"Approval Date\"])\n",
    "        final_FDA_date_format = []\n",
    "        for j in final_FDA_date:\n",
    "            final_FDA_date_format.append(datetime.strptime(j, '%b %d, %Y'))\n",
    "\n",
    "        final_FDA_df[\"Approval Date\"] = final_FDA_date_format\n",
    "        final_FDA_df[\"Fin Index\"] = FDA_index[counter_loop]\n",
    "        list_FDA_data.append(final_FDA_df)\n",
    "        \n",
    "    return list_FDA_data"
   ]
  }
 ],
 "metadata": {
  "kernelspec": {
   "display_name": "Python 3 (ipykernel)",
   "language": "python",
   "name": "python3"
  },
  "language_info": {
   "codemirror_mode": {
    "name": "ipython",
    "version": 3
   },
   "file_extension": ".py",
   "mimetype": "text/x-python",
   "name": "python",
   "nbconvert_exporter": "python",
   "pygments_lexer": "ipython3",
   "version": "3.9.7"
  }
 },
 "nbformat": 4,
 "nbformat_minor": 5
}
