{
 "cells": [
  {
   "cell_type": "code",
   "execution_count": null,
   "id": "ad5d5ca6",
   "metadata": {},
   "outputs": [],
   "source": [
    "import yfinance as yf\n",
    "import pandas as pd\n",
    "\n",
    "def loadFinInfo(list_FDA_data):\n",
    "    file_path = '../Datos/FDA Aproval.xlsx'\n",
    "    all_sheets_FDA = pd.ExcelFile(file_path).sheet_names\n",
    "    financial_counter = -1\n",
    "    stock_data_output_list = []\n",
    "\n",
    "    for i in all_sheets_FDA:\n",
    "        financial_counter = financial_counter +1\n",
    "        dates_to_view = list_FDA_data[financial_counter][\"Approval Date\"]\n",
    "        minimum_date_plot = min(dates_to_view) - pd.DateOffset(days=28)\n",
    "        maximum_date_plot = max(dates_to_view) + pd.DateOffset(days=28)\n",
    "        stock_data = yf.download(i, start=minimum_date_plot, end=maximum_date_plot)\n",
    "        stock_data_output = stock_data.loc[:,[\"Close\",\"Volume\"]].reset_index()\n",
    "        FDA_date_list = [1 if x in list(dates_to_view) else 0 for x in list(stock_data_output[\"Date\"])]\n",
    "        stock_data_output[\"FDA Date\"] = FDA_date_list\n",
    "        stock_data_output_list.append(stock_data_output)\n",
    "        \n",
    "    return(stock_data_output_list)"
   ]
  }
 ],
 "metadata": {
  "kernelspec": {
   "display_name": "Python 3 (ipykernel)",
   "language": "python",
   "name": "python3"
  },
  "language_info": {
   "codemirror_mode": {
    "name": "ipython",
    "version": 3
   },
   "file_extension": ".py",
   "mimetype": "text/x-python",
   "name": "python",
   "nbconvert_exporter": "python",
   "pygments_lexer": "ipython3",
   "version": "3.9.7"
  }
 },
 "nbformat": 4,
 "nbformat_minor": 5
}
